{
  "nbformat": 4,
  "nbformat_minor": 0,
  "metadata": {
    "accelerator": "GPU",
    "colab": {
      "name": "classification.ipynb",
      "provenance": [],
      "collapsed_sections": [],
      "toc_visible": true
    },
    "kernelspec": {
      "name": "python385jvsc74a57bd0e75d5c61ae87ddcdffc44ac652aace09ce2f58976c4c5271b1486defc7785b4e",
      "display_name": "Python 3.8.5 64-bit ('env_ml': conda)"
    }
  },
  "cells": [
    {
      "cell_type": "code",
      "execution_count": null,
      "metadata": {},
      "outputs": [],
      "source": [
        "import matplotlib.pyplot as plt\n",
        "import numpy as np\n",
        "import os\n",
        "import PIL\n",
        "import tensorflow as tf\n",
        "\n",
        "from tensorflow import keras\n",
        "from tensorflow.keras import layers\n",
        "from tensorflow.keras.models import Sequential\n",
        "import json\n",
        "from pre_processor import slice_lot"
      ]
    },
    {
      "cell_type": "code",
      "execution_count": null,
      "metadata": {},
      "outputs": [],
      "source": [
        "from tensorflow import keras\n",
        "model = keras.models.load_model('saved_model_1')"
      ]
    },
    {
      "cell_type": "code",
      "execution_count": null,
      "metadata": {},
      "outputs": [],
      "source": [
        "batch_size = 32\n",
        "img_height = 98\n",
        "img_width = 54\n",
        "\n",
        "num_classes = 6\n",
        "\n",
        "json_full_filename = './3DEnviornment/HackTJ8.0/Assets/TrainingImages/image_dictionary.json'\n",
        "with open(json_full_filename) as f:\n",
        "    json_object = json.load(f)\n",
        "    all_car_models, _image_filename_labels = json_object['all_car_models'], json_object['image_filename_labels']\n",
        "    \n",
        "class_names = sorted(all_car_models)\n",
        "print(class_names)"
      ]
    },
    {
      "cell_type": "code",
      "execution_count": null,
      "metadata": {},
      "outputs": [],
      "source": [
        "def analyze_space(img):\n",
        "    img_array = keras.preprocessing.image.img_to_array(img)\n",
        "    img_array = tf.expand_dims(img_array, 0) # Create a batch\n",
        "\n",
        "    predictions = model.predict(img_array)\n",
        "    score = tf.nn.softmax(predictions[0])\n",
        "\n",
        "    # print(\n",
        "    #     \"This image most likely belongs to {} with a {:.2f} percent confidence.\"\n",
        "    #     .format(class_names[np.argmax(score)], 100 * np.max(score))\n",
        "    # )\n",
        "    return np.argmax(score)"
      ]
    },
    {
      "cell_type": "code",
      "execution_count": null,
      "metadata": {},
      "outputs": [],
      "source": [
        "def analyze_parking_lot(lot_image):\n",
        "    spaces = slice_lot(lot_image)\n",
        "    cars_in_lots = [analyze_space(image) for image in spaces]\n",
        "    cars_in_lots = [class_names[elem] for elem in cars_in_lots]\n",
        "    return cars_in_lots"
      ]
    },
    {
      "cell_type": "code",
      "execution_count": null,
      "metadata": {},
      "outputs": [],
      "source": [
        "from sheet_manager import SheetManager\n",
        "sheet_manager = SheetManager()"
      ]
    },
    {
      "cell_type": "code",
      "execution_count": null,
      "metadata": {},
      "outputs": [],
      "source": [
        "lot_image = PIL.Image.open('/Users/akashpamal/Documents/TJHSST/Grade11/CurbsideClassifier/3DEnviornment/HackTJ8.0/Assets/TrainingImages/28.jpg')\n",
        "result = analyze_parking_lot(lot_image)\n",
        "result\n",
        "# lot_image\n",
        "# sheet_manager.add_scene(result)"
      ]
    },
    {
      "cell_type": "code",
      "execution_count": null,
      "metadata": {},
      "outputs": [],
      "source": []
    }
  ]
}