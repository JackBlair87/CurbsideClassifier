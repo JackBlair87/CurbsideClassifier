{
  "nbformat": 4,
  "nbformat_minor": 0,
  "metadata": {
    "accelerator": "GPU",
    "colab": {
      "name": "classification.ipynb",
      "provenance": [],
      "collapsed_sections": [],
      "toc_visible": true
    },
    "kernelspec": {
      "name": "python382jvsc74a57bd0083423ecd8117d739a52e46879ebb0d2ebd3c78434762fd7c17c9091748c8df0",
      "display_name": "Python 3.8.2 64-bit ('env_hacktj': venv)"
    }
  },
  "cells": [
    {
      "cell_type": "code",
      "execution_count": 1,
      "metadata": {},
      "outputs": [],
      "source": [
        "import matplotlib.pyplot as plt\n",
        "import numpy as np\n",
        "import os\n",
        "import PIL\n",
        "import tensorflow as tf\n",
        "\n",
        "from tensorflow import keras\n",
        "from tensorflow.keras import layers\n",
        "from tensorflow.keras.models import Sequential\n",
        "import json\n",
        "from pre_processor import slice_lot"
      ]
    },
    {
      "cell_type": "code",
      "execution_count": 2,
      "metadata": {},
      "outputs": [],
      "source": [
        "from tensorflow import keras\n",
        "model = keras.models.load_model('saved_model_1')"
      ]
    },
    {
      "cell_type": "code",
      "execution_count": 5,
      "metadata": {},
      "outputs": [
        {
          "output_type": "stream",
          "name": "stdout",
          "text": [
            "['Blue', 'Brown', 'Empty', 'Green', 'Purple', 'Yellow']\n"
          ]
        }
      ],
      "source": [
        "batch_size = 32\n",
        "img_height = 98\n",
        "img_width = 54\n",
        "\n",
        "num_classes = 6\n",
        "\n",
        "json_full_filename = './3DEnviornment/HackTJ8.0/Assets/TrainingImages/image_dictionary.json'\n",
        "with open(json_full_filename) as f:\n",
        "    json_object = json.load(f)\n",
        "    all_car_models, _image_filename_labels = json_object['all_car_models'], json_object['image_filename_labels']\n",
        "    \n",
        "class_names = sorted(all_car_models)\n",
        "print(class_names)"
      ]
    },
    {
      "cell_type": "code",
      "execution_count": 24,
      "metadata": {},
      "outputs": [],
      "source": [
        "def analyze_space(img):\n",
        "    img_array = keras.preprocessing.image.img_to_array(img)\n",
        "    img_array = tf.expand_dims(img_array, 0) # Create a batch\n",
        "\n",
        "    predictions = model.predict(img_array)\n",
        "    score = tf.nn.softmax(predictions[0])\n",
        "\n",
        "    # print(\n",
        "    #     \"This image most likely belongs to {} with a {:.2f} percent confidence.\"\n",
        "    #     .format(class_names[np.argmax(score)], 100 * np.max(score))\n",
        "    # )\n",
        "    return np.argmax(score)"
      ]
    },
    {
      "cell_type": "code",
      "execution_count": 27,
      "metadata": {},
      "outputs": [],
      "source": [
        "def analyze_parking_lot(lot_image):\n",
        "    spaces = slice_lot(lot_image)\n",
        "    cars_in_lots = [analyze_space(image) for image in spaces]\n",
        "    cars_in_lots = [class_names[elem] for elem in cars_in_lots]\n",
        "    return cars_in_lots"
      ]
    },
    {
      "cell_type": "code",
      "execution_count": 30,
      "metadata": {},
      "outputs": [
        {
          "output_type": "stream",
          "name": "stdout",
          "text": [
            "['Yellow', 'Brown', 'Empty', 'Green', 'Empty', 'Empty', 'Empty', 'Blue']\n"
          ]
        }
      ],
      "source": [
        "lot_image = PIL.Image.open('/Users/akashpamal/Downloads/BadDrivers (1).jpeg')\n",
        "print(analyze_parking_lot(lot_image))"
      ]
    },
    {
      "cell_type": "code",
      "execution_count": null,
      "metadata": {},
      "outputs": [],
      "source": []
    }
  ]
}